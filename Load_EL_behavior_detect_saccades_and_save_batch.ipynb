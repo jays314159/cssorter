{
 "cells": [
  {
   "cell_type": "code",
   "execution_count": 5,
   "metadata": {},
   "outputs": [],
   "source": [
    "from fhd import *\n",
    "import OpenEphys\n",
    "import matplotlib.pyplot as plt\n",
    "import numpy as np\n",
    "from kaveh.toolbox import find_file\n",
    "import re"
   ]
  },
  {
   "cell_type": "code",
   "execution_count": 2,
   "metadata": {},
   "outputs": [],
   "source": [
    "source_path = '../data/behavioral/2019_09_12/'"
   ]
  },
  {
   "cell_type": "code",
   "execution_count": 6,
   "metadata": {},
   "outputs": [],
   "source": [
    "fnames_behavioral = []\n",
    "for root, dirnames, filenames in os.walk(source_path):\n",
    "    for filename in filenames:\n",
    "        f_regex = re.compile(r\".*\\.fhd$\")\n",
    "        if f_regex.match(filename):\n",
    "            fnames_behavioral = fnames_behavioral + [os.path.join(root, filename)]\n",
    "fnames_behavioral = np.array(f_names)"
   ]
  },
  {
   "cell_type": "code",
   "execution_count": null,
   "metadata": {},
   "outputs": [],
   "source": [
    "fnames_"
   ]
  },
  {
   "cell_type": "code",
   "execution_count": null,
   "metadata": {},
   "outputs": [],
   "source": [
    "for fn in fnames_behavioral:\n",
    "    print('Loading {} ...'.format(fn))\n",
    "    fhd_content = load(fn)\n",
    "\n",
    "    HT = np.squeeze(fhd_content['target_x'])\n",
    "    VT = np.squeeze(fhd_content['target_y'])\n",
    "    HE = np.squeeze(fhd_content['right_horizontal_eye'])\n",
    "    VE = np.squeeze(fhd_content['right_vertical_eye'])\n",
    "    eye = np.linalg.norm(np.vstack((HE, VE)), axis = 0)\n",
    "    # target = np.linalg.norm(np.vstack((target_x, target_y)), axis = 0)\n",
    "    el_t = np.squeeze(fhd_content['t'])\n",
    "    trials = fhd_content['trials']\n",
    "    \n",
    "    # Loading state times from behavioral data\n",
    "    class trial_events:\n",
    "        pass\n",
    "\n",
    "    trialevents = []\n",
    "    for trial in trials:\n",
    "        trial_event = trial_events()\n",
    "    #     if not np.array_equal(trial['state_start_time_cue_target_present'], trial['state_start_time_detect_sac_start']):\n",
    "    #         print(trial['state_start_time_cue_target_present'], trial['state_start_time_detect_sac_start'])\n",
    "\n",
    "        for k,v in zip(trial.keys(), trial.values()):\n",
    "            exec('trial_event.' + k + '=v')\n",
    "        trialevents.append(trial_event)\n",
    "    "
   ]
  },
  {
   "cell_type": "code",
   "execution_count": null,
   "metadata": {},
   "outputs": [],
   "source": []
  }
 ],
 "metadata": {
  "kernelspec": {
   "display_name": "Python 3",
   "language": "python",
   "name": "python3"
  },
  "language_info": {
   "codemirror_mode": {
    "name": "ipython",
    "version": 3
   },
   "file_extension": ".py",
   "mimetype": "text/x-python",
   "name": "python",
   "nbconvert_exporter": "python",
   "pygments_lexer": "ipython3",
   "version": "3.6.8"
  }
 },
 "nbformat": 4,
 "nbformat_minor": 2
}
