{
 "cells": [
  {
   "cell_type": "code",
   "execution_count": null,
   "metadata": {},
   "outputs": [],
   "source": [
    "chan_index = int(input('Enter channel index to analyze:'))\n",
    "# print('Enter Open Ephys data directory path:')\n",
    "# source_path = raw_input()"
   ]
  },
  {
   "cell_type": "code",
   "execution_count": null,
   "metadata": {},
   "outputs": [],
   "source": [
    "source_path = '../data/OpenEphys_data/2019-07-10/2019-07-10_17-08-24'"
   ]
  },
  {
   "cell_type": "code",
   "execution_count": null,
   "metadata": {},
   "outputs": [],
   "source": [
    "import time\n",
    "t0 = time.time()\n",
    "import OpenEphys\n",
    "from kaveh.toolbox import common_avg_ref, butter_bandpass_filter\n",
    "import Kwik\n",
    "from matplotlib import pyplot as plt\n",
    "import numpy as np\n",
    "import os\n",
    "import re\n",
    "import scipy.signal"
   ]
  },
  {
   "cell_type": "code",
   "execution_count": null,
   "metadata": {},
   "outputs": [],
   "source": [
    "%matplotlib notebook\n",
    "%load_ext autoreload\n",
    "%autoreload 2"
   ]
  },
  {
   "cell_type": "code",
   "execution_count": null,
   "metadata": {},
   "outputs": [],
   "source": [
    "f_names = []\n",
    "for root, dirnames, filenames in os.walk(source_path):\n",
    "    for filename in filenames:\n",
    "        f_regex = re.compile(r\".*CH(\\d|\\d\\d)\\.continuous$\")\n",
    "        if f_regex.match(filename):\n",
    "            f_names = f_names + [os.path.join(root, filename)]\n",
    "f_names = np.array(f_names)\n",
    "chans = [int(f.split('.')[-2].split('_')[-1][2:]) for f in f_names]\n",
    "f_names = f_names[np.argsort(chans)] # now sorted by channel number"
   ]
  },
  {
   "cell_type": "code",
   "execution_count": null,
   "metadata": {
    "scrolled": true
   },
   "outputs": [],
   "source": [
    "chan_data = []\n",
    "for contact in range(7):\n",
    "    contact_reps = []\n",
    "    for i in range(contact*4, contact*4 + 4):\n",
    "        print('Reading {}...'.format(f_names[i]))\n",
    "        file_content = OpenEphys.load(f_names[i])\n",
    "        Fs = float(file_content['header']['sampleRate'])\n",
    "        signal_filtered = butter_bandpass_filter(file_content['data'], 200, 10000, Fs, order=2 )\n",
    "        contact_reps.append(signal_filtered)\n",
    "    contact_reps = np.array(contact_reps)\n",
    "    chan_data.append(np.mean(contact_reps, axis=0))\n",
    "    print('-----------------------------------------------')\n",
    "chan_data = np.array(chan_data)\n",
    "contact_reps = None"
   ]
  },
  {
   "cell_type": "code",
   "execution_count": null,
   "metadata": {},
   "outputs": [],
   "source": [
    "common_avg_ref(chan_data)\n",
    "chan_data = scipy.signal.detrend(chan_data)\n",
    "\n",
    "chan_filtered_fname = os.path.join(source_path, 'channels_filtered.npy')\n",
    "print('Saving filtered data to {}'.format(chan_filtered_fname))\n",
    "np.save(chan_filtered_fname, chan_data)"
   ]
  },
  {
   "cell_type": "code",
   "execution_count": null,
   "metadata": {},
   "outputs": [],
   "source": [
    "chan_filtered_fname = os.path.join(source_path, 'channels_filtered.npy')\n",
    "chan_data_raw = np.load(chan_filtered_fname)\n",
    "Fs = 30000.0"
   ]
  },
  {
   "cell_type": "markdown",
   "metadata": {},
   "source": [
    "### Plot channel voltage"
   ]
  },
  {
   "cell_type": "code",
   "execution_count": null,
   "metadata": {},
   "outputs": [],
   "source": [
    "# plot channel\n",
    "# plt.figure(figsize=(16,5))\n",
    "# plt.plot(chan_data[chan_index, :])\n",
    "# plt.title('Channel {}. Signal length = {}s'.format(chan_index, chan_data.shape[1]/Fs))"
   ]
  },
  {
   "cell_type": "code",
   "execution_count": null,
   "metadata": {},
   "outputs": [],
   "source": [
    "from cssorter.spikesorter import ComplexSpikeSorter\n",
    "dt = 1.0/Fs\n",
    "css = ComplexSpikeSorter(chan_data[chan_index, :], dt)\n",
    "css.num_gmm_components = 3\n",
    "css.cs_num_gmm_components = 4\n",
    "css.pre_window = 0.0002\n",
    "css.post_window = 0.004\n",
    "css.run(use_filtered=True, remove_overlap=False, spike_detection_dir = 'max', align_spikes_to='min')"
   ]
  },
  {
   "cell_type": "code",
   "execution_count": null,
   "metadata": {},
   "outputs": [],
   "source": [
    "num_clusters = 8\n",
    "pre_time = 0.0005\n",
    "post_time = 0.005\n",
    "clusters, cluster_labels = css.cluster_detected_cs(num_clusters=num_clusters, pre_time=pre_time, post_time=post_time)\n",
    "ss_indices = css.get_ss_indices()"
   ]
  },
  {
   "cell_type": "code",
   "execution_count": null,
   "metadata": {},
   "outputs": [],
   "source": [
    "ss_indices.shape"
   ]
  },
  {
   "cell_type": "code",
   "execution_count": null,
   "metadata": {},
   "outputs": [],
   "source": [
    "import random\n",
    "pre_index = int(np.round(pre_time/css.dt))\n",
    "post_index = int(np.round(post_time/css.dt))\n",
    "aligned_ss = np.array([css.voltage[i - pre_index : i + post_index] for i in ss_indices[1:-2]])\n",
    "mean_ss = np.mean(aligned_ss[random.sample(range(0, aligned_ss.shape[0]), css.cs_indices.size), ], axis=0)"
   ]
  },
  {
   "cell_type": "code",
   "execution_count": null,
   "metadata": {},
   "outputs": [],
   "source": [
    "t1 = time.time()\n",
    "print('Total run time = {} s'.format(t1-t0))"
   ]
  },
  {
   "cell_type": "code",
   "execution_count": null,
   "metadata": {},
   "outputs": [],
   "source": [
    "# plot cluster means\n",
    "colors = plt.cm.nipy_spectral(np.linspace(0,1,num_clusters))\n",
    "legend_labels = []\n",
    "for cn in np.arange(num_clusters):\n",
    "    legend_labels.append('c{}({}) '.format(cn, clusters[cn].shape[0]))\n",
    "\n",
    "import gc\n",
    "gc.collect()\n",
    "plt.figure(figsize=(8,5))\n",
    "clust_means = []\n",
    "paxes = []\n",
    "for cn in np.arange(num_clusters):\n",
    "    clust_means.append(np.mean(clusters[cn], axis=0))\n",
    "    ax = plt.plot(clust_means[-1], color = colors[cn], label = legend_labels[cn])\n",
    "    paxes.append(ax)\n",
    "plt.plot(mean_ss, '--', label = 'Mean SS({})'.format(aligned_ss.shape[0]))\n",
    "plt.legend() "
   ]
  },
  {
   "cell_type": "code",
   "execution_count": null,
   "metadata": {},
   "outputs": [],
   "source": [
    "from sklearn.cluster import KMeans\n",
    "kmeans = KMeans(n_clusters=2, random_state=0).fit(clust_means)\n",
    "cs_clust = np.argmax(np.sum(np.abs(kmeans.cluster_centers_), axis=1))\n",
    "clusters_to_pick = np.where(kmeans.labels_ == cs_clust)[0]\n",
    "print('Detected CS clusters: {}'.format(clusters_to_pick))"
   ]
  },
  {
   "cell_type": "code",
   "execution_count": null,
   "metadata": {
    "scrolled": true
   },
   "outputs": [],
   "source": [
    "ans = input(\"Enter CS clusters (comma separated; example: 5,3,1). Type a character to accept the detected cluster: \")\n",
    "ans_regex = re.compile(r'\\d+(?:,\\d+)?')\n",
    "if ans_regex.match(ans):\n",
    "    clusters_to_pick = [int(c) for c in ans.split(',')]\n",
    "    "
   ]
  },
  {
   "cell_type": "code",
   "execution_count": null,
   "metadata": {},
   "outputs": [],
   "source": [
    "cs_indices_to_pick = []\n",
    "for cti in clusters_to_pick:\n",
    "    cs_indices_to_pick = np.union1d(cs_indices_to_pick, css.cs_indices[np.where(cluster_labels == cti)])\n",
    "cs_indices = cs_indices_to_pick.astype(np.int64)\n",
    "print('Number of detected CS: {}'.format(cs_indices.shape))"
   ]
  },
  {
   "cell_type": "markdown",
   "metadata": {},
   "source": [
    "## Saving detected CS and SS:"
   ]
  },
  {
   "cell_type": "code",
   "execution_count": null,
   "metadata": {},
   "outputs": [],
   "source": [
    "CS_csv_filename = os.path.join(source_path, 'channel_{}.CS.csv'.format(chan_index))\n",
    "SS_csv_filename = os.path.join(source_path, 'channel_{}.SS.csv'.format(chan_index))\n",
    "\n",
    "import csv\n",
    "with open(CS_csv_filename, 'w+') as f:\n",
    "    print('writing {} ... '.format(CS_csv_filename))\n",
    "    f.seek(0)\n",
    "    csvwriter = csv.writer(f, delimiter = ',')\n",
    "    csvwriter.writerows(cs_indices.reshape(-1,1))\n",
    "    \n",
    "with open(SS_csv_filename, 'w+') as f:\n",
    "    print('writing {} ... '.format(SS_csv_filename))\n",
    "    f.seek(0)\n",
    "    csvwriter = csv.writer(f, delimiter = ',')\n",
    "    csvwriter.writerows(ss_indices.reshape(-1,1))"
   ]
  },
  {
   "cell_type": "code",
   "execution_count": null,
   "metadata": {},
   "outputs": [],
   "source": [
    "plt.figure(figsize=(20,5))\n",
    "plt.plot(chan_data_raw[chan_index,:], alpha = 0.5)\n",
    "plt.plot(chan_data[chan_index,:], alpha = 0.8)\n",
    "plt.eventplot(cs_indices, linelengths=300, colors='r', alpha=0.4)\n"
   ]
  }
 ],
 "metadata": {
  "kernelspec": {
   "display_name": "Python 3",
   "language": "python",
   "name": "python3"
  },
  "language_info": {
   "codemirror_mode": {
    "name": "ipython",
    "version": 3
   },
   "file_extension": ".py",
   "mimetype": "text/x-python",
   "name": "python",
   "nbconvert_exporter": "python",
   "pygments_lexer": "ipython3",
   "version": "3.6.8"
  }
 },
 "nbformat": 4,
 "nbformat_minor": 2
}
