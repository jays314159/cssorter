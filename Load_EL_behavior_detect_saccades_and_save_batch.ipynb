{
 "cells": [
  {
   "cell_type": "code",
   "execution_count": 2,
   "metadata": {},
   "outputs": [],
   "source": [
    "from fhd import *\n",
    "import OpenEphys\n",
    "import matplotlib.pyplot as plt\n",
    "import numpy as np\n",
    "from kaveh.toolbox import find_file\n",
    "import re"
   ]
  },
  {
   "cell_type": "code",
   "execution_count": 3,
   "metadata": {},
   "outputs": [],
   "source": [
    "source_path = '../data/behavioral/random_target_stepback/2019_11_12/'"
   ]
  },
  {
   "cell_type": "code",
   "execution_count": 6,
   "metadata": {},
   "outputs": [],
   "source": [
    "fnames_behavioral = []\n",
    "for root, dirnames, filenames in os.walk(source_path):\n",
    "    for filename in filenames:\n",
    "        f_regex = re.compile(r\".*\\.fhd$\")\n",
    "        if f_regex.match(filename):\n",
    "            fnames_behavioral = fnames_behavioral + [os.path.join(root, filename)]\n",
    "fnames_behavioral = np.array(fnames_behavioral)"
   ]
  },
  {
   "cell_type": "code",
   "execution_count": 11,
   "metadata": {},
   "outputs": [
    {
     "data": {
      "text/plain": [
       "array(['../data/behavioral/random_target_stepback/2019_11_12/random_target_backstep_085259.fhd',\n",
       "       '../data/behavioral/random_target_stepback/2019_11_12/random_target_backstep_091652.fhd',\n",
       "       '../data/behavioral/random_target_stepback/2019_11_12/random_target_backstep_095329.fhd',\n",
       "       '../data/behavioral/random_target_stepback/2019_11_12/random_target_backstep_090906.fhd',\n",
       "       '../data/behavioral/random_target_stepback/2019_11_12/random_target_backstep_100305.fhd',\n",
       "       '../data/behavioral/random_target_stepback/2019_11_12/random_target_backstep_093839.fhd',\n",
       "       '../data/behavioral/random_target_stepback/2019_11_12/random_target_backstep_084641.fhd',\n",
       "       '../data/behavioral/random_target_stepback/2019_11_12/random_target_backstep_090342.fhd',\n",
       "       '../data/behavioral/random_target_stepback/2019_11_12/random_target_backstep_084630.fhd',\n",
       "       '../data/behavioral/random_target_stepback/2019_11_12/random_target_backstep_085749.fhd'],\n",
       "      dtype='<U86')"
      ]
     },
     "execution_count": 11,
     "metadata": {},
     "output_type": "execute_result"
    }
   ],
   "source": [
    "fnames_behavioral"
   ]
  },
  {
   "cell_type": "code",
   "execution_count": 10,
   "metadata": {},
   "outputs": [
    {
     "name": "stdout",
     "output_type": "stream",
     "text": [
      "Loading ../data/behavioral/random_target_stepback/2019_11_12/random_target_backstep_085259.fhd ...\n"
     ]
    },
    {
     "name": "stderr",
     "output_type": "stream",
     "text": [
      "/run/dmount/cssorter/kaveh/behavioral/oculomotor/session.py:142: RuntimeWarning: invalid value encountered in greater\n",
      "  rising = self.E_v_filtered > v_thresh\n",
      "/run/dmount/cssorter/kaveh/behavioral/oculomotor/session.py:156: RuntimeWarning: invalid value encountered in less\n",
      "  below_onset_offset_thresh = self.E_v_filtered < onoff_thresh\n"
     ]
    },
    {
     "name": "stdout",
     "output_type": "stream",
     "text": [
      "Loading ../data/behavioral/random_target_stepback/2019_11_12/random_target_backstep_091652.fhd ...\n",
      "Loading ../data/behavioral/random_target_stepback/2019_11_12/random_target_backstep_095329.fhd ...\n",
      "Loading ../data/behavioral/random_target_stepback/2019_11_12/random_target_backstep_090906.fhd ...\n",
      "Loading ../data/behavioral/random_target_stepback/2019_11_12/random_target_backstep_100305.fhd ...\n"
     ]
    },
    {
     "ename": "IndexError",
     "evalue": "boolean index did not match indexed array along dimension 0; dimension is 1339255 but corresponding boolean dimension is 1339254",
     "output_type": "error",
     "traceback": [
      "\u001b[0;31m---------------------------------------------------------------------------\u001b[0m",
      "\u001b[0;31mIndexError\u001b[0m                                Traceback (most recent call last)",
      "\u001b[0;32m<ipython-input-10-6c1389642d34>\u001b[0m in \u001b[0;36m<module>\u001b[0;34m\u001b[0m\n\u001b[1;32m     18\u001b[0m     \u001b[0mmysess\u001b[0m\u001b[0;34m.\u001b[0m\u001b[0m_calc_saccade_velocity\u001b[0m\u001b[0;34m(\u001b[0m\u001b[0;34m)\u001b[0m\u001b[0;34m\u001b[0m\u001b[0;34m\u001b[0m\u001b[0m\n\u001b[1;32m     19\u001b[0m     \u001b[0mmysess\u001b[0m\u001b[0;34m.\u001b[0m\u001b[0m_detect_target_jumps\u001b[0m\u001b[0;34m(\u001b[0m\u001b[0monoff_thresh\u001b[0m \u001b[0;34m=\u001b[0m \u001b[0;36m30\u001b[0m\u001b[0;34m)\u001b[0m\u001b[0;34m\u001b[0m\u001b[0;34m\u001b[0m\u001b[0m\n\u001b[0;32m---> 20\u001b[0;31m     \u001b[0mmysess\u001b[0m\u001b[0;34m.\u001b[0m\u001b[0m_detect_saccades\u001b[0m\u001b[0;34m(\u001b[0m\u001b[0mv_thresh\u001b[0m \u001b[0;34m=\u001b[0m \u001b[0;36m150\u001b[0m\u001b[0;34m,\u001b[0m \u001b[0monoff_thresh\u001b[0m \u001b[0;34m=\u001b[0m \u001b[0;36m50\u001b[0m\u001b[0;34m)\u001b[0m\u001b[0;34m\u001b[0m\u001b[0;34m\u001b[0m\u001b[0m\n\u001b[0m\u001b[1;32m     21\u001b[0m \u001b[0;34m\u001b[0m\u001b[0m\n\u001b[1;32m     22\u001b[0m     \u001b[0;31m# Loading state times from behavioral data\u001b[0m\u001b[0;34m\u001b[0m\u001b[0;34m\u001b[0m\u001b[0;34m\u001b[0m\u001b[0m\n",
      "\u001b[0;32m/run/dmount/cssorter/kaveh/behavioral/oculomotor/session.py\u001b[0m in \u001b[0;36m_detect_saccades\u001b[0;34m(self, v_thresh, onoff_thresh)\u001b[0m\n\u001b[1;32m    144\u001b[0m \u001b[0;34m\u001b[0m\u001b[0m\n\u001b[1;32m    145\u001b[0m         \u001b[0;31m# remove detected saccades that are withing 0.010 s of another detected saccade\u001b[0m\u001b[0;34m\u001b[0m\u001b[0;34m\u001b[0m\u001b[0;34m\u001b[0m\u001b[0m\n\u001b[0;32m--> 146\u001b[0;31m         \u001b[0msaccade_times\u001b[0m \u001b[0;34m=\u001b[0m \u001b[0mself\u001b[0m\u001b[0;34m.\u001b[0m\u001b[0mt_VE\u001b[0m\u001b[0;34m[\u001b[0m\u001b[0mrising\u001b[0m\u001b[0;34m]\u001b[0m\u001b[0;34m\u001b[0m\u001b[0;34m\u001b[0m\u001b[0m\n\u001b[0m\u001b[1;32m    147\u001b[0m         \u001b[0msaccade_times\u001b[0m \u001b[0;34m=\u001b[0m \u001b[0mnp\u001b[0m\u001b[0;34m.\u001b[0m\u001b[0mdelete\u001b[0m\u001b[0;34m(\u001b[0m\u001b[0msaccade_times\u001b[0m\u001b[0;34m,\u001b[0m \u001b[0mnp\u001b[0m\u001b[0;34m.\u001b[0m\u001b[0mwhere\u001b[0m\u001b[0;34m(\u001b[0m\u001b[0mnp\u001b[0m\u001b[0;34m.\u001b[0m\u001b[0mdiff\u001b[0m\u001b[0;34m(\u001b[0m\u001b[0msaccade_times\u001b[0m\u001b[0;34m)\u001b[0m\u001b[0;34m<\u001b[0m\u001b[0;36m0.010\u001b[0m\u001b[0;34m)\u001b[0m\u001b[0;34m)\u001b[0m\u001b[0;34m\u001b[0m\u001b[0;34m\u001b[0m\u001b[0m\n\u001b[1;32m    148\u001b[0m         \u001b[0mrising\u001b[0m \u001b[0;34m=\u001b[0m \u001b[0mnp\u001b[0m\u001b[0;34m.\u001b[0m\u001b[0misin\u001b[0m\u001b[0;34m(\u001b[0m\u001b[0mself\u001b[0m\u001b[0;34m.\u001b[0m\u001b[0mt_VE\u001b[0m\u001b[0;34m,\u001b[0m \u001b[0msaccade_times\u001b[0m\u001b[0;34m)\u001b[0m\u001b[0;34m\u001b[0m\u001b[0;34m\u001b[0m\u001b[0m\n",
      "\u001b[0;31mIndexError\u001b[0m: boolean index did not match indexed array along dimension 0; dimension is 1339255 but corresponding boolean dimension is 1339254"
     ]
    }
   ],
   "source": [
    "from kaveh.behavioral.oculomotor.session import session\n",
    "sessions_for_file = {}\n",
    "for fn in fnames_behavioral:\n",
    "    print('Loading {} ...'.format(fn))\n",
    "    fhd_content = load(fn)\n",
    "\n",
    "    HT = np.squeeze(fhd_content['target_x'])\n",
    "    VT = np.squeeze(fhd_content['target_y'])\n",
    "    HE = np.squeeze(fhd_content['right_horizontal_eye'])\n",
    "    VE = np.squeeze(fhd_content['right_vertical_eye'])\n",
    "    eye = np.linalg.norm(np.vstack((HE, VE)), axis = 0)\n",
    "    # target = np.linalg.norm(np.vstack((target_x, target_y)), axis = 0)\n",
    "    el_t = np.squeeze(fhd_content['t'])\n",
    "    trials = fhd_content['trials']\n",
    "    mysess = session(HT, el_t, VT, el_t, HE, el_t, VE, el_t, 1000.0, 0.001)\n",
    "\n",
    "    mysess._calc_target_velocity()\n",
    "    mysess._calc_saccade_velocity()\n",
    "    mysess._detect_target_jumps(onoff_thresh = 30)\n",
    "    mysess._detect_saccades(v_thresh = 150, onoff_thresh = 50)\n",
    "    \n",
    "    # Loading state times from behavioral data\n",
    "#     class trial_events:\n",
    "#         pass\n",
    "\n",
    "#     trialevents = []\n",
    "#     for trial in trials:\n",
    "#         trial_event = trial_events()\n",
    "#     #     if not np.array_equal(trial['state_start_time_cue_target_present'], trial['state_start_time_detect_sac_start']):\n",
    "#     #         print(trial['state_start_time_cue_target_present'], trial['state_start_time_detect_sac_start'])\n",
    "\n",
    "#         for k,v in zip(trial.keys(), trial.values()):\n",
    "#             exec('trial_event.' + k + '=v')\n",
    "#         trialevents.append(trial_event)\n",
    "    sessions_for_file[fn] = mysess"
   ]
  },
  {
   "cell_type": "code",
   "execution_count": 9,
   "metadata": {},
   "outputs": [
    {
     "data": {
      "text/plain": [
       "111"
      ]
     },
     "execution_count": 9,
     "metadata": {},
     "output_type": "execute_result"
    }
   ],
   "source": [
    "import gc\n",
    "gc.collect()\n",
    "\n",
    "plt.figure()\n",
    "ax1 = plt.subplot(411)\n",
    "plt.plot(t_HT, HT)\n",
    "plt.plot(t_HT, HE, '--')\n",
    "h = plt.ylabel('Hor Target/Eye (deg)')\n",
    "# h.set_rotation(-45)\n",
    "plt.subplot(412, sharex=ax1, sharey=ax1)\n",
    "plt.plot(t_VT, VT)\n",
    "plt.plot(t_VT, VE, '--')\n",
    "plt.ylabel('Ver Target/Eye (deg)')\n",
    "ax3 = plt.subplot(413, sharex=ax1)\n",
    "plt.plot(t_VT, T_v_filtered)\n",
    "plt.ylabel('Target Velocity (deg/s)')\n",
    "# plt.eventplot(t_VE[rising], linelengths=1000, colors='r', zorder=10, alpha = 0.4)\n",
    "plt.eventplot(t_VT[mysess.target_onsets],linelengths=1000, colors='g', zorder=10, alpha = 0.4)\n",
    "# plt.eventplot(t_VT[mysess.target_onsets[iss_targets_successful_trials]],linelengths=1000, colors='r', zorder=10, alpha = 1)\n",
    "plt.eventplot(t_VT[mysess.target_offsets],linelengths=1000, colors='k', zorder=10, alpha = 0.4)\n",
    "# plt.eventplot(mysess.target_offset_times[non_iss_target_jumps_with_successfull_following_iss_tj],linelengths=5000, colors='m', zorder=10, alpha = 0.9)\n",
    "# plt.eventplot(deliver_reward_times,linelengths=5000, colors='b', zorder=10, alpha = 0.4)\n",
    "\n",
    "ax4 = plt.subplot(414, sharex=ax1, sharey=ax3)\n",
    "plt.plot(t_VE, E_v_filtered)\n",
    "plt.ylabel('Eye Velocity (deg/s)')\n",
    "plt.xlabel('Time (s)')\n",
    "# plt.eventplot(t_VE[rising], linelengths=1000, colors='r', zorder=10, alpha = 0.4)\n",
    "plt.eventplot(t_VE[mysess.saccade_onsets],linelengths=1000, colors='g', zorder=10, alpha = 0.4)\n",
    "plt.eventplot(t_VE[mysess.saccade_offsets],linelengths=1000, colors='k', zorder=10, alpha = 0.4)\n",
    "\n",
    "\n",
    "plt.show()"
   ]
  }
 ],
 "metadata": {
  "kernelspec": {
   "display_name": "Python 3",
   "language": "python",
   "name": "python3"
  },
  "language_info": {
   "codemirror_mode": {
    "name": "ipython",
    "version": 3
   },
   "file_extension": ".py",
   "mimetype": "text/x-python",
   "name": "python",
   "nbconvert_exporter": "python",
   "pygments_lexer": "ipython3",
   "version": "3.6.8"
  }
 },
 "nbformat": 4,
 "nbformat_minor": 2
}
