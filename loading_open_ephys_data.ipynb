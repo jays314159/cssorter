{
 "cells": [
  {
   "cell_type": "code",
   "execution_count": null,
   "metadata": {},
   "outputs": [],
   "source": [
    "import matplotlib.pyplot as plt\n",
    "import numpy as np\n",
    "import time\n",
    "t0 = time.time()\n",
    "from matplotlib import pyplot as plt\n",
    "import os\n",
    "import re\n",
    "import scipy.signal\n",
    "from kaveh.toolbox import common_avg_ref, butter_bandpass_filter, find_files_regex\n",
    "import OpenEphys"
   ]
  },
  {
   "cell_type": "code",
   "execution_count": null,
   "metadata": {},
   "outputs": [],
   "source": [
    "%matplotlib notebook\n",
    "%load_ext autoreload\n",
    "%autoreload 2"
   ]
  },
  {
   "cell_type": "code",
   "execution_count": null,
   "metadata": {},
   "outputs": [],
   "source": [
    "num_electrode_contacts = 7 # 7 for heptodes; 4 for tetrodes\n",
    "source_path = '/path/to/raw/open ephys/directory'\n"
   ]
  },
  {
   "cell_type": "markdown",
   "metadata": {},
   "source": [
    "# Load the input data\n",
    "Load the raw channel voltage here. Save it in `voltage_trace` as a 1d numpy array. Save sampling frequency in the variable `Fs`"
   ]
  },
  {
   "cell_type": "code",
   "execution_count": null,
   "metadata": {},
   "outputs": [],
   "source": [
    "f_names = []\n",
    "for root, dirnames, filenames in os.walk(source_path):\n",
    "    for filename in filenames:\n",
    "        f_regex = re.compile(r\".*CH(\\d|\\d\\d)\\.continuous$\")\n",
    "        if f_regex.match(filename):\n",
    "            f_names = f_names + [os.path.join(root, filename)]\n",
    "f_names = np.array(f_names)\n",
    "chans = [int(f.split('.')[-2].split('_')[-1][2:]) for f in f_names]\n",
    "f_names = f_names[np.argsort(chans)] # now sorted by channel number\n",
    "\n",
    "chan_data = []\n",
    "for contact in range(num_electrode_contacts):\n",
    "    contact_reps = []\n",
    "    for i in range(contact*4, contact*4 + 4):\n",
    "        print('Reading {}...'.format(f_names[i]))\n",
    "        file_content = OpenEphys.load(f_names[i])\n",
    "        Fs = float(file_content['header']['sampleRate'])\n",
    "        signal_filtered = butter_bandpass_filter(file_content['data'], 200, 10000, Fs, order=2 )\n",
    "        contact_reps.append(signal_filtered)\n",
    "    contact_reps = np.array(contact_reps)\n",
    "    chan_data.append(np.mean(contact_reps, axis=0))\n",
    "    print('-----------------------------------------------')\n",
    "chan_data = np.array(chan_data)\n",
    "contact_reps = None\n",
    "\n",
    "common_avg_ref(chan_data)\n",
    "chan_data = scipy.signal.detrend(chan_data)"
   ]
  },
  {
   "cell_type": "markdown",
   "metadata": {},
   "source": [
    "### Saving:"
   ]
  },
  {
   "cell_type": "code",
   "execution_count": null,
   "metadata": {},
   "outputs": [],
   "source": [
    "chan_filtered_fname = os.path.join(source_path, 'channels_filtered.npy')\n",
    "print('Saving filtered data to {}'.format(chan_filtered_fname))\n",
    "np.save(chan_filtered_fname, chan_data)"
   ]
  },
  {
   "cell_type": "code",
   "execution_count": null,
   "metadata": {},
   "outputs": [],
   "source": [
    "chan_index = 0 # index of contact (zero indexed; e.g. for a tetrode it should be 0, 1, 2, or 3)\n",
    "voltage_trace = np.squeeze(chan_data[chan_index, :])"
   ]
  }
 ],
 "metadata": {
  "kernelspec": {
   "display_name": "Python 3",
   "language": "python",
   "name": "python3"
  },
  "language_info": {
   "codemirror_mode": {
    "name": "ipython",
    "version": 3
   },
   "file_extension": ".py",
   "mimetype": "text/x-python",
   "name": "python",
   "nbconvert_exporter": "python",
   "pygments_lexer": "ipython3",
   "version": "3.6.8"
  }
 },
 "nbformat": 4,
 "nbformat_minor": 2
}
